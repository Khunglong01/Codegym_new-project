{
 "cells": [
  {
   "cell_type": "code",
   "execution_count": 1,
   "id": "f4ac38d2",
   "metadata": {},
   "outputs": [],
   "source": [
    "import turtle\n",
    "turtle.pensize(5)\n",
    "m=150\n",
    "n=100\n",
    "turtle.forward(m)\n",
    "turtle.right(90)\n",
    "turtle.forward(n)\n",
    "turtle.right(90)\n",
    "turtle.forward(m)\n",
    "turtle.right(90)\n",
    "turtle.forward(n)\n",
    "turtle.done()"
   ]
  },
  {
   "cell_type": "code",
   "execution_count": null,
   "id": "3c39a471",
   "metadata": {},
   "outputs": [],
   "source": []
  }
 ],
 "metadata": {
  "kernelspec": {
   "display_name": "Python 3 (ipykernel)",
   "language": "python",
   "name": "python3"
  },
  "language_info": {
   "codemirror_mode": {
    "name": "ipython",
    "version": 3
   },
   "file_extension": ".py",
   "mimetype": "text/x-python",
   "name": "python",
   "nbconvert_exporter": "python",
   "pygments_lexer": "ipython3",
   "version": "3.9.12"
  }
 },
 "nbformat": 4,
 "nbformat_minor": 5
}
