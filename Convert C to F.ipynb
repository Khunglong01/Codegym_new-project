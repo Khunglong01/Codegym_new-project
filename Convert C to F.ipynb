{
 "cells": [
  {
   "cell_type": "code",
   "execution_count": 1,
   "id": "e0cfa95a",
   "metadata": {},
   "outputs": [
    {
     "name": "stdout",
     "output_type": "stream",
     "text": [
      "Nhập nhiệt độ C:37\n",
      "Chuyển sang độ F là:  98.6\n"
     ]
    }
   ],
   "source": [
    "c = int(input(\"Nhập nhiệt độ C:\"))\n",
    "f = 9*c/5+32\n",
    "print(\"Chuyển sang độ F là: \",f)"
   ]
  },
  {
   "cell_type": "code",
   "execution_count": null,
   "id": "0434d594",
   "metadata": {},
   "outputs": [],
   "source": []
  }
 ],
 "metadata": {
  "kernelspec": {
   "display_name": "Python 3 (ipykernel)",
   "language": "python",
   "name": "python3"
  },
  "language_info": {
   "codemirror_mode": {
    "name": "ipython",
    "version": 3
   },
   "file_extension": ".py",
   "mimetype": "text/x-python",
   "name": "python",
   "nbconvert_exporter": "python",
   "pygments_lexer": "ipython3",
   "version": "3.9.12"
  }
 },
 "nbformat": 4,
 "nbformat_minor": 5
}
